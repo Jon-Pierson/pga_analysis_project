{
 "cells": [
  {
   "cell_type": "markdown",
   "metadata": {},
   "source": [
    "# Looping through \"year\" variable within the API and extracting data for every year"
   ]
  },
  {
   "cell_type": "code",
   "execution_count": 36,
   "metadata": {},
   "outputs": [],
   "source": [
    "# Dependencies\n",
    "import json\n",
    "import requests\n",
    "import os\n",
    "import pandas as pd\n",
    "from pandas import json_normalize\n",
    "from pprint import pprint"
   ]
  },
  {
   "cell_type": "code",
   "execution_count": 37,
   "metadata": {},
   "outputs": [],
   "source": [
    "api_key = os.getenv('gd_api_key')"
   ]
  },
  {
   "cell_type": "code",
   "execution_count": 38,
   "metadata": {},
   "outputs": [],
   "source": [
    "# Define List of Years to query\n",
    "\n",
    "years = ['2017', '2018', '2019', '2020', '2021', '2022', '2023']"
   ]
  },
  {
   "cell_type": "code",
   "execution_count": 39,
   "metadata": {},
   "outputs": [],
   "source": [
    "# Define the variables for API URL\n",
    "\n",
    "file_format = \"json\"\n",
    "\n",
    "tour = \"pga\"\n",
    "\n",
    "event_id = \"all\"\n",
    "\n",
    "url = \"https://feeds.datagolf.com/historical-raw-data/rounds?\""
   ]
  },
  {
   "cell_type": "code",
   "execution_count": 42,
   "metadata": {},
   "outputs": [
    {
     "name": "stdout",
     "output_type": "stream",
     "text": [
      "Data for year 2017 retrieved successfully. Total records so far: 46\n",
      "Data for year 2018 retrieved successfully. Total records so far: 55\n",
      "Failed to retrieve data for year 2019. Status code: 400\n",
      "Failed to retrieve data for year 2020. Status code: 400\n",
      "Failed to retrieve data for year 2021. Status code: 500\n",
      "Failed to retrieve data for year 2022. Status code: 400\n",
      "Failed to retrieve data for year 2023. Status code: 400\n"
     ]
    }
   ],
   "source": [
    "# Create a list for all data and loop through each year, query the API, and compile the data into one list\n",
    "\n",
    "all_data = {}\n",
    "\n",
    "for year in years:\n",
    "    query_url = f\"{url}tour={tour}&event_id={event_id}&year={year}&file_format={file_format}&key={api_key}\"\n",
    "    response = requests.get(query_url)\n",
    "    \n",
    "    if response.status_code == 200:\n",
    "        data = response.json()\n",
    "        for event_id, event_data in data.items():\n",
    "            unique_event_id = f\"{year}_{event_id}\"\n",
    "            all_data[unique_event_id] = event_data\n",
    "        print(f\"Data for year {year} retrieved successfully. Total records so far: {len(all_data)}\")\n",
    "    else:\n",
    "        print(f\"Failed to retrieve data for year {year}. Status code: {response.status_code}\")"
   ]
  },
  {
   "cell_type": "code",
   "execution_count": 41,
   "metadata": {},
   "outputs": [
    {
     "name": "stdout",
     "output_type": "stream",
     "text": [
      "{}\n"
     ]
    }
   ],
   "source": [
    "# Inspect the data structure\n",
    "\n",
    "print(json.dumps(all_data, indent=4, sort_keys=True))"
   ]
  },
  {
   "cell_type": "code",
   "execution_count": 21,
   "metadata": {},
   "outputs": [
    {
     "name": "stdout",
     "output_type": "stream",
     "text": [
      "Key: event_completed, Data Type: <class 'str'>\n",
      "Key: event_id, Data Type: <class 'str'>\n",
      "Key: event_name, Data Type: <class 'str'>\n",
      "Key: scores, Data Type: <class 'list'>\n",
      "Key: season, Data Type: <class 'int'>\n",
      "Key: sg_categories, Data Type: <class 'str'>\n",
      "Key: tour, Data Type: <class 'str'>\n",
      "Key: traditional_stats, Data Type: <class 'str'>\n",
      "Key: year, Data Type: <class 'int'>\n",
      "Key: event_completed, Data Type: <class 'str'>\n",
      "Key: event_id, Data Type: <class 'str'>\n",
      "Key: event_name, Data Type: <class 'str'>\n",
      "Key: scores, Data Type: <class 'list'>\n",
      "Key: season, Data Type: <class 'int'>\n",
      "Key: sg_categories, Data Type: <class 'str'>\n",
      "Key: tour, Data Type: <class 'str'>\n",
      "Key: traditional_stats, Data Type: <class 'str'>\n",
      "Key: year, Data Type: <class 'int'>\n",
      "Key: event_completed, Data Type: <class 'str'>\n",
      "Key: event_id, Data Type: <class 'str'>\n",
      "Key: event_name, Data Type: <class 'str'>\n",
      "Key: scores, Data Type: <class 'list'>\n",
      "Key: season, Data Type: <class 'int'>\n",
      "Key: sg_categories, Data Type: <class 'str'>\n",
      "Key: tour, Data Type: <class 'str'>\n",
      "Key: traditional_stats, Data Type: <class 'str'>\n",
      "Key: year, Data Type: <class 'int'>\n",
      "Key: event_completed, Data Type: <class 'str'>\n",
      "Key: event_id, Data Type: <class 'str'>\n",
      "Key: event_name, Data Type: <class 'str'>\n",
      "Key: scores, Data Type: <class 'list'>\n",
      "Key: season, Data Type: <class 'int'>\n",
      "Key: sg_categories, Data Type: <class 'str'>\n",
      "Key: tour, Data Type: <class 'str'>\n",
      "Key: traditional_stats, Data Type: <class 'str'>\n",
      "Key: year, Data Type: <class 'int'>\n",
      "Key: event_completed, Data Type: <class 'str'>\n",
      "Key: event_id, Data Type: <class 'str'>\n",
      "Key: event_name, Data Type: <class 'str'>\n",
      "Key: scores, Data Type: <class 'list'>\n",
      "Key: season, Data Type: <class 'int'>\n",
      "Key: sg_categories, Data Type: <class 'str'>\n",
      "Key: tour, Data Type: <class 'str'>\n",
      "Key: traditional_stats, Data Type: <class 'str'>\n",
      "Key: year, Data Type: <class 'int'>\n",
      "Key: event_completed, Data Type: <class 'str'>\n",
      "Key: event_id, Data Type: <class 'str'>\n",
      "Key: event_name, Data Type: <class 'str'>\n",
      "Key: scores, Data Type: <class 'list'>\n",
      "Key: season, Data Type: <class 'int'>\n",
      "Key: sg_categories, Data Type: <class 'str'>\n",
      "Key: tour, Data Type: <class 'str'>\n",
      "Key: traditional_stats, Data Type: <class 'str'>\n",
      "Key: year, Data Type: <class 'int'>\n",
      "Key: event_completed, Data Type: <class 'str'>\n",
      "Key: event_id, Data Type: <class 'str'>\n",
      "Key: event_name, Data Type: <class 'str'>\n",
      "Key: scores, Data Type: <class 'list'>\n",
      "Key: season, Data Type: <class 'int'>\n",
      "Key: sg_categories, Data Type: <class 'str'>\n",
      "Key: tour, Data Type: <class 'str'>\n",
      "Key: traditional_stats, Data Type: <class 'str'>\n",
      "Key: year, Data Type: <class 'int'>\n"
     ]
    }
   ],
   "source": [
    "# Inspect the data structure and data types for each key\n",
    "\n",
    "for data in all_data:\n",
    "    for key in data.keys():\n",
    "        print(f\"Key: {key}, Data Type: {type(data[key])}\")"
   ]
  },
  {
   "cell_type": "code",
   "execution_count": 22,
   "metadata": {},
   "outputs": [
    {
     "ename": "AttributeError",
     "evalue": "'list' object has no attribute 'values'",
     "output_type": "error",
     "traceback": [
      "\u001b[1;31m---------------------------------------------------------------------------\u001b[0m",
      "\u001b[1;31mAttributeError\u001b[0m                            Traceback (most recent call last)",
      "Cell \u001b[1;32mIn[22], line 4\u001b[0m\n\u001b[0;32m      1\u001b[0m \u001b[38;5;66;03m# Extracting scores, flattening the data, and creating the DataFrame\u001b[39;00m\n\u001b[0;32m      2\u001b[0m scores_list \u001b[38;5;241m=\u001b[39m []\n\u001b[1;32m----> 4\u001b[0m \u001b[38;5;28;01mfor\u001b[39;00m event \u001b[38;5;129;01min\u001b[39;00m \u001b[43mall_data\u001b[49m\u001b[38;5;241;43m.\u001b[39;49m\u001b[43mvalues\u001b[49m():\n\u001b[0;32m      5\u001b[0m     event_completed \u001b[38;5;241m=\u001b[39m event[\u001b[38;5;124m\"\u001b[39m\u001b[38;5;124mevent_completed\u001b[39m\u001b[38;5;124m\"\u001b[39m]\n\u001b[0;32m      6\u001b[0m     event_id \u001b[38;5;241m=\u001b[39m event[\u001b[38;5;124m\"\u001b[39m\u001b[38;5;124mevent_id\u001b[39m\u001b[38;5;124m\"\u001b[39m]\n",
      "\u001b[1;31mAttributeError\u001b[0m: 'list' object has no attribute 'values'"
     ]
    }
   ],
   "source": [
    "# Extracting scores, flattening the data, and creating the DataFrame\n",
    "scores_list = []\n",
    "\n",
    "for event in all_data.values():\n",
    "    event_completed = event[\"event_completed\"]\n",
    "    event_id = event[\"event_id\"]\n",
    "    event_name = event[\"event_name\"]\n",
    "    season = event[\"season\"]\n",
    "    sg_categrories = event[\"sg_categories\"]\n",
    "    traditional_stats = event[\"traditional_stats\"]\n",
    "    year = event[\"year\"]\n",
    "    for score in event[\"scores\"]:\n",
    "        for round_num in range(1, 5):\n",
    "            round_key = f\"round_{round_num}\"\n",
    "            if round_key in score:\n",
    "                round_data = score[round_key]\n",
    "                combined_score = {\n",
    "                    \"event_completed\": event_completed,\n",
    "                    \"event_id\": event_id,\n",
    "                    \"event_name\": event_name,\n",
    "                    \"season\": season,\n",
    "                    \"sg_categories\": sg_categrories,\n",
    "                    \"traditional_stats\": traditional_stats,\n",
    "                    \"year\": year,\n",
    "                    \"dg_id\": score[\"dg_id\"],\n",
    "                    \"fin_text\": score[\"fin_text\"],\n",
    "                    \"player_name\": score[\"player_name\"],\n",
    "                    \"round\": round_num,\n",
    "                    **round_data\n",
    "                }\n",
    "                scores_list.append(combined_score)\n",
    "\n",
    "# Create the anaylsis DataFrame\n",
    "scores_df = pd.DataFrame(scores_list)\n",
    "\n",
    "# Display the DataFrame\n",
    "scores_df.head()"
   ]
  },
  {
   "cell_type": "markdown",
   "metadata": {},
   "source": [
    "### Saving the DataFrame to a .csv file to ensure all data was captured correctly"
   ]
  },
  {
   "cell_type": "code",
   "execution_count": 9,
   "metadata": {},
   "outputs": [
    {
     "name": "stdout",
     "output_type": "stream",
     "text": [
      "c:\\Users\\Jon\\OneDrive\\githubRepo\\pga_analysis_project\\data_files\n"
     ]
    }
   ],
   "source": [
    "# Create a new folder in in the parent directory to store the CSV file\n",
    "\n",
    "os.makedirs(\"../data_files\", exist_ok=True)\n",
    "\n",
    "# Print the file path to the new folder\n",
    "print(os.path.abspath(\"../data_files\"))"
   ]
  },
  {
   "cell_type": "code",
   "execution_count": 10,
   "metadata": {},
   "outputs": [
    {
     "name": "stdout",
     "output_type": "stream",
     "text": [
      "c:\\Users\\Jon\\OneDrive\\githubRepo\\pga_analysis_project\\data_files\\pga_tour_data.csv\n"
     ]
    }
   ],
   "source": [
    "# Save the DataFrame to a CSV file in the data_files folder\n",
    "\n",
    "scores_df.to_csv(\"../data_files/pga_tour_data.csv\", index=False)\n",
    "\n",
    "# Print the file path to the new CSV file\n",
    "print(os.path.abspath(\"../data_files/pga_tour_data.csv\"))"
   ]
  }
 ],
 "metadata": {
  "kernelspec": {
   "display_name": "myenv",
   "language": "python",
   "name": "python3"
  },
  "language_info": {
   "codemirror_mode": {
    "name": "ipython",
    "version": 3
   },
   "file_extension": ".py",
   "mimetype": "text/x-python",
   "name": "python",
   "nbconvert_exporter": "python",
   "pygments_lexer": "ipython3",
   "version": "3.9.19"
  }
 },
 "nbformat": 4,
 "nbformat_minor": 2
}
